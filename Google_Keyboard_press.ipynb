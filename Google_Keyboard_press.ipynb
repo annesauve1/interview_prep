{
 "cells": [
  {
   "cell_type": "markdown",
   "metadata": {},
   "source": [
    "Long Pressed Name\n",
    "Your friend is typing his name into a keyboard. Sometimes, when typing a character c, the key might get long pressed, and the character will be typed 1 or more times.\n",
    "\n",
    "You examine the typed characters of the keyboard. Return True if it is possible that it was your friends name, with some characters (possibly none) being long pressed.\n",
    "\n",
    " \n",
    "\n",
    "Example 1:\n",
    "\n",
    "Input: name = \"alex\", typed = \"aaleex\"\n",
    "Output: true\n",
    "Explanation: 'a' and 'e' in 'alex' were long pressed.\n",
    "Example 2:\n",
    "\n",
    "Input: name = \"saeed\", typed = \"ssaaedd\"\n",
    "Output: false\n",
    "Explanation: 'e' must have been pressed twice, but it was not in the typed output.\n",
    " \n",
    "\n",
    "Constraints:\n",
    "\n",
    "1 <= name.length, typed.length <= 1000"
   ]
  },
  {
   "cell_type": "code",
   "execution_count": 5,
   "metadata": {},
   "outputs": [],
   "source": [
    "class Solution:\n",
    "    def isLongPressedName(self, name: str, typed: str) -> bool:\n",
    "        namel = list(name)\n",
    "        typedl = list(typed)\n",
    "        n = namel.pop(0)\n",
    "        nprev = n\n",
    "        t = typedl.pop(0)\n",
    "        while t:\n",
    "            if t != n and n != \"\":\n",
    "                return False\n",
    "            elif t != nprev and n == \"\":\n",
    "                return False\n",
    "            elif t == nprev and n == \"\":\n",
    "                return True\n",
    "            while t == n and typedl:\n",
    "                t = typedl.pop(0)\n",
    "            if namel:  \n",
    "                n = namel.pop(0)\n",
    "                nprev = n\n",
    "            else:\n",
    "                n = \"\"\n",
    "    "
   ]
  },
  {
   "cell_type": "code",
   "execution_count": 47,
   "metadata": {},
   "outputs": [
    {
     "name": "stdout",
     "output_type": "stream",
     "text": [
      "True\n",
      "False\n",
      "False\n",
      "False\n",
      "True\n"
     ]
    }
   ],
   "source": [
    "Sol = Solution()\n",
    "name = 'alex'\n",
    "typed = 'aaleex'\n",
    "print(Sol.isLongPressedName(name,typed))\n",
    "typed = 'elex'\n",
    "print(Sol.isLongPressedName(name,typed))\n",
    "typed = 'aleexa'\n",
    "print(Sol.isLongPressedName(name,typed))\n",
    "typed = 'aaleexa'\n",
    "print(Sol.isLongPressedName(name,typed))\n",
    "typed = 'aaleexx'\n",
    "print(Sol.isLongPressedName(name,typed))"
   ]
  },
  {
   "cell_type": "code",
   "execution_count": 46,
   "metadata": {},
   "outputs": [],
   "source": []
  },
  {
   "cell_type": "code",
   "execution_count": null,
   "metadata": {},
   "outputs": [],
   "source": []
  }
 ],
 "metadata": {
  "kernelspec": {
   "display_name": "Python 3",
   "language": "python",
   "name": "python3"
  },
  "language_info": {
   "codemirror_mode": {
    "name": "ipython",
    "version": 3
   },
   "file_extension": ".py",
   "mimetype": "text/x-python",
   "name": "python",
   "nbconvert_exporter": "python",
   "pygments_lexer": "ipython3",
   "version": "3.8.3"
  }
 },
 "nbformat": 4,
 "nbformat_minor": 4
}
