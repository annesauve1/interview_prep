{
 "cells": [
  {
   "cell_type": "markdown",
   "metadata": {},
   "source": [
    "Longest Absolute File Path\n",
    "Suppose we have a file system that stores both files and directories. An example of one system is represented in the following picture:\n",
    "\n",
    "\n",
    "\n",
    "Here, we have dir as the only directory in the root. dir contains two subdirectories, subdir1 and subdir2. subdir1 contains a file file1.ext and subdirectory subsubdir1. subdir2 contains a subdirectory subsubdir2, which contains a file file2.ext.\n",
    "\n",
    "In text form, it looks like this (with ⟶ representing the tab character):\n",
    "\n",
    "dir\n",
    "⟶ subdir1\n",
    "⟶ ⟶ file1.ext\n",
    "⟶ ⟶ subsubdir1\n",
    "⟶ subdir2\n",
    "⟶ ⟶ subsubdir2\n",
    "⟶ ⟶ ⟶ file2.ext\n",
    "If we were to write this representation in code, it will look like this: \"dir\\n\\tsubdir1\\n\\t\\tfile1.ext\\n\\t\\tsubsubdir1\\n\\tsubdir2\\n\\t\\tsubsubdir2\\n\\t\\t\\tfile2.ext\". Note that the '\\n' and '\\t' are the new-line and tab characters.\n",
    "\n",
    "Every file and directory has a unique absolute path in the file system, which is the order of directories that must be opened to reach the file/directory itself, all concatenated by '/'s. Using the above example, the absolute path to file2.ext is \"dir/subdir2/subsubdir2/file2.ext\". Each directory name consists of letters, digits, and/or spaces. Each file name is of the form name.extension, where name and extension consist of letters, digits, and/or spaces.\n",
    "\n",
    "Given a string input representing the file system in the explained format, return the length of the longest absolute path to a file in the abstracted file system. If there is no file in the system, return 0.\n",
    "\n",
    "Note that the testcases are generated such that the file system is valid and no file or directory name has length 0.\n",
    "\n",
    " example1:\n",
    " Input: input = \"dir\\n\\tsubdir1\\n\\tsubdir2\\n\\t\\tfile.ext\"\n",
    "Output: 20\n",
    "Explanation: We have only one file, and the absolute path is \"dir/subdir2/file.ext\" of length 20.\n",
    "\n",
    "example2:\n",
    "Input: input = \"dir\\n\\tsubdir1\\n\\t\\tfile1.ext\\n\\t\\tsubsubdir1\\n\\tsubdir2\\n\\t\\tsubsubdir2\\n\\t\\t\\tfile2.ext\"\n",
    "Output: 32\n",
    "Explanation: We have two files:\n",
    "\"dir/subdir1/file1.ext\" of length 21\n",
    "\"dir/subdir2/subsubdir2/file2.ext\" of length 32.\n",
    "We return 32 since it is the longest absolute path to a file.\n",
    "\n",
    "example3:\n",
    "Input: input = \"a\"\n",
    "Output: 0\n",
    "Explanation: We do not have any files, just a single directory named \"a\".\n",
    " \n",
    "\n",
    "Constraints:\n",
    "\n",
    "1 <= input.length <= 104\n",
    "input may contain lowercase or uppercase English letters, a new line character '\\n', a tab character '\\t', a dot '.', a space ' ', and digits.\n",
    "All file and directory names have positive length."
   ]
  },
  {
   "cell_type": "code",
   "execution_count": 5,
   "metadata": {},
   "outputs": [],
   "source": [
    "class Solution:\n",
    "    def LongestAbsoluteFilePath(self,inp : str) -> int:\n",
    "        lines = inp.split(\"\\n\")\n",
    "        maxLength = 0\n",
    "        depth_map = {0:0}\n",
    "        for line in lines:\n",
    "            path = line.replace(\"\\t\",\"\")\n",
    "            depth = line.count(\"\\t\")\n",
    "            # or depth = len(line) - len(path)\n",
    "            if \".\" in path:\n",
    "                maxLength = max(maxLength,depth_map[depth] + len(path))\n",
    "            else:\n",
    "                depth_map[depth + 1] = depth_map[depth] + len(path) + 1\n",
    "        return maxLength\n",
    " \n",
    "                    \n",
    "                    \n"
   ]
  },
  {
   "cell_type": "code",
   "execution_count": 6,
   "metadata": {},
   "outputs": [
    {
     "name": "stdout",
     "output_type": "stream",
     "text": [
      "20\n",
      "32\n",
      "0\n"
     ]
    }
   ],
   "source": [
    "Sol = Solution()\n",
    "inp = \"dir\\n\\tsubdir1\\n\\tsubdir2\\n\\t\\tfile.ext\"\n",
    "print(Sol.LongestAbsoluteFilePath(inp))\n",
    "inp = \"dir\\n\\tsubdir1\\n\\t\\tfile1.ext\\n\\t\\tsubsubdir1\\n\\tsubdir2\\n\\t\\tsubsubdir2\\n\\t\\t\\tfile2.ext\"\n",
    "print(Sol.LongestAbsoluteFilePath(inp))\n",
    "inp = \"a\"\n",
    "print(Sol.LongestAbsoluteFilePath(inp))"
   ]
  },
  {
   "cell_type": "code",
   "execution_count": null,
   "metadata": {},
   "outputs": [],
   "source": []
  }
 ],
 "metadata": {
  "kernelspec": {
   "display_name": "Python 3",
   "language": "python",
   "name": "python3"
  },
  "language_info": {
   "codemirror_mode": {
    "name": "ipython",
    "version": 3
   },
   "file_extension": ".py",
   "mimetype": "text/x-python",
   "name": "python",
   "nbconvert_exporter": "python",
   "pygments_lexer": "ipython3",
   "version": "3.8.3"
  }
 },
 "nbformat": 4,
 "nbformat_minor": 4
}
