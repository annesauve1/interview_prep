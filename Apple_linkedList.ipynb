{
 "cells": [
  {
   "cell_type": "markdown",
   "metadata": {},
   "source": [
    "Remove Duplicates from Sorted List II\n",
    "Given the head of a sorted linked list, delete all nodes that have duplicate numbers, leaving only distinct numbers from the original list. Return the linked list sorted as well.\n",
    "\n",
    " \n",
    "\n",
    "Example 1:\n",
    "\n",
    "\n",
    "Input: head = [1,2,3,3,4,4,5]\n",
    "Output: [1,2,5]\n",
    "Example 2:\n",
    "\n",
    "\n",
    "Input: head = [1,1,1,2,3]\n",
    "Output: [2,3]\n",
    " \n",
    "\n",
    "Constraints:\n",
    "\n",
    "The number of nodes in the list is in the range [0, 300].\n",
    "-100 <= Node.val <= 100"
   ]
  },
  {
   "cell_type": "code",
   "execution_count": 116,
   "metadata": {},
   "outputs": [],
   "source": [
    "# Definition for singly-linked list.\n",
    "class ListNode:\n",
    "    def __init__(self, val=0, next=None):\n",
    "        self.val = val\n",
    "        self.next = next\n",
    "        \n",
    "    def printLN(self,current_node: [ListNode]):\n",
    "        while(current_node):\n",
    "            print(current_node.val)\n",
    "            current_node = current_node.next   \n",
    "\n",
    "\n",
    "class Solution:       \n",
    "    \n",
    "    def deleteDuplicates(self, head: [ListNode]) -> [ListNode]:\n",
    "        dummyHead = ListNode()\n",
    "        currentN = dummyHead\n",
    "        while head.next != None:\n",
    "            Next = head.next\n",
    "            if Next.val != head.val:\n",
    "                newN = ListNode(head.val)\n",
    "                currentN.next = newN\n",
    "                currentN = currentN.next\n",
    "            while Next.val == head.val and Next.next != None:\n",
    "                Next = Next.next    \n",
    "            ref = head.val\n",
    "            head = Next\n",
    "\n",
    "        # treat the last element of head separately\n",
    "        if head.val != ref:\n",
    "            # different last value to add\n",
    "            newN = ListNode(head.val)\n",
    "            currentN.next = newN\n",
    "            \n",
    "            \n",
    "        result = dummyHead.next\n",
    "        return result\n",
    "                \n",
    "            "
   ]
  },
  {
   "cell_type": "code",
   "execution_count": 120,
   "metadata": {},
   "outputs": [
    {
     "name": "stdout",
     "output_type": "stream",
     "text": [
      "1\n",
      "2\n",
      "4\n",
      "5\n",
      "6\n"
     ]
    }
   ],
   "source": [
    "head = ListNode()\n",
    "head.val = 1\n",
    "head.next = ListNode(2)\n",
    "head.next.next = ListNode(3)\n",
    "head.next.next.next = ListNode(3)\n",
    "head.next.next.next.next = ListNode(3)\n",
    "head.next.next.next.next.next = ListNode(4)\n",
    "head.next.next.next.next.next.next = ListNode(5)\n",
    "head.next.next.next.next.next.next.next = ListNode(6)\n",
    "\n",
    "\n",
    "\n",
    "Sol = Solution()\n",
    "result = Sol.deleteDuplicates(head)\n",
    "res = ListNode()\n",
    "res.printLN(result)"
   ]
  },
  {
   "cell_type": "code",
   "execution_count": null,
   "metadata": {},
   "outputs": [],
   "source": []
  }
 ],
 "metadata": {
  "kernelspec": {
   "display_name": "Python 3",
   "language": "python",
   "name": "python3"
  },
  "language_info": {
   "codemirror_mode": {
    "name": "ipython",
    "version": 3
   },
   "file_extension": ".py",
   "mimetype": "text/x-python",
   "name": "python",
   "nbconvert_exporter": "python",
   "pygments_lexer": "ipython3",
   "version": "3.8.3"
  }
 },
 "nbformat": 4,
 "nbformat_minor": 4
}
