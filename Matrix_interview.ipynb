{
 "cells": [
  {
   "cell_type": "code",
   "execution_count": 1,
   "metadata": {},
   "outputs": [
    {
     "name": "stdout",
     "output_type": "stream",
     "text": [
      "The original list : [[5, 8, 9], [2, 0, 9], [5, 4, 2], [2, 3, 9]]\n",
      "The Assigned Matrix : {5: [2, 0, 9], 8: [5, 4, 2], 9: [2, 3, 9]}\n"
     ]
    }
   ],
   "source": [
    "# Python3 code to demonstrate working of \n",
    "# Assigning Subsequent Rows to Matrix first row elements\n",
    "# Using dictionary comprehension\n",
    " \n",
    "# initializing list\n",
    "test_list = [[5, 8, 9], [2, 0, 9], [5, 4, 2], [2, 3, 9]]\n",
    " \n",
    "# printing original list\n",
    "print(\"The original list : \" + str(test_list))\n",
    " \n",
    "# pairing each 1st col with next rows in Matrix\n",
    "res = {test_list[0][ele] :  test_list[ele + 1] for ele in range(len(test_list) - 1)}\n",
    " \n",
    "# printing result \n",
    "print(\"The Assigned Matrix : \" + str(res))"
   ]
  },
  {
   "cell_type": "code",
   "execution_count": 2,
   "metadata": {},
   "outputs": [
    {
     "name": "stdout",
     "output_type": "stream",
     "text": [
      "The original list : [[5, 8, 9], [2, 0, 9], [5, 4, 2], [2, 3, 9]]\n",
      "The Assigned Matrix : {5: [2, 0, 9], 8: [5, 4, 2], 9: [2, 3, 9]}\n"
     ]
    }
   ],
   "source": [
    "# Python3 code to demonstrate working of\n",
    "# Assigning Subsequent Rows to Matrix first row elements\n",
    "# Using zip() + list slicing + dict()\n",
    " \n",
    "# initializing list\n",
    "test_list = [[5, 8, 9], [2, 0, 9], [5, 4, 2], [2, 3, 9]]\n",
    " \n",
    "# printing original list\n",
    "print(\"The original list : \" + str(test_list))\n",
    " \n",
    "# dict() to convert back to dict type\n",
    "# slicing and pairing using zip() and list slicing\n",
    "res = dict(zip(test_list[0], test_list[1:]))\n",
    " \n",
    "# printing result\n",
    "print(\"The Assigned Matrix : \" + str(res))"
   ]
  },
  {
   "cell_type": "markdown",
   "metadata": {},
   "source": [
    "Suppose we have two matrices A and B.\n",
    "A = [[1,2],[3,4]]\n",
    "B = [[4,5],[6,7]]\n",
    "\n",
    "then we get\n",
    "A+B = [[5,7],[9,11]]\n",
    "A-B = [[-3,-3],[-3,-3]]"
   ]
  },
  {
   "cell_type": "code",
   "execution_count": 3,
   "metadata": {},
   "outputs": [
    {
     "name": "stdout",
     "output_type": "stream",
     "text": [
      "Printing elements of first matrix\n",
      "[[1 2]\n",
      " [3 4]]\n",
      "Printing elements of second matrix\n",
      "[[4 5]\n",
      " [6 7]]\n",
      "Addition of two matrix\n",
      "[[ 5  7]\n",
      " [ 9 11]]\n"
     ]
    }
   ],
   "source": [
    "# importing numpy as np\n",
    "import numpy as np\n",
    " \n",
    " \n",
    "# creating first matrix\n",
    "A = np.array([[1, 2], [3, 4]])\n",
    " \n",
    "# creating second matrix\n",
    "B = np.array([[4, 5], [6, 7]])\n",
    " \n",
    "print(\"Printing elements of first matrix\")\n",
    "print(A)\n",
    "print(\"Printing elements of second matrix\")\n",
    "print(B)\n",
    " \n",
    "# adding two matrix\n",
    "print(\"Addition of two matrix\")\n",
    "print(np.add(A, B))"
   ]
  },
  {
   "cell_type": "code",
   "execution_count": 5,
   "metadata": {},
   "outputs": [
    {
     "name": "stdout",
     "output_type": "stream",
     "text": [
      "Printing elements of first matrix\n",
      "[[1 2]\n",
      " [3 4]]\n",
      "Printing elements of second matrix\n",
      "[[4 5]\n",
      " [6 7]]\n",
      "Subtraction of two matrix\n",
      "[[-3 -3]\n",
      " [-3 -3]]\n",
      "[[-3, -3], [-3, -3]]\n"
     ]
    }
   ],
   "source": [
    "# importing numpy as np\n",
    "import numpy as np\n",
    " \n",
    " \n",
    "# creating first matrix\n",
    "A = np.array([[1, 2], [3, 4]])\n",
    " \n",
    "# creating second matrix\n",
    "B = np.array([[4, 5], [6, 7]])\n",
    " \n",
    "print(\"Printing elements of first matrix\")\n",
    "print(A)\n",
    "print(\"Printing elements of second matrix\")\n",
    "print(B)\n",
    " \n",
    "# subtracting two matrix\n",
    "print(\"Subtraction of two matrix\")\n",
    "print(np.subtract(A, B))\n",
    "C = np.subtract(A, B).tolist()\n",
    "print(C)"
   ]
  },
  {
   "cell_type": "markdown",
   "metadata": {},
   "source": [
    "Input : test_list = [1, 3, 4, 4, 2, 3] \n",
    "Output : [[1], [2], [3, 3], [4, 4]] \n",
    "Input : test_list = [1, 3, 4, 2] \n",
    "Output : [[1], [2], [3], [4]]"
   ]
  },
  {
   "cell_type": "code",
   "execution_count": 12,
   "metadata": {},
   "outputs": [
    {
     "name": "stdout",
     "output_type": "stream",
     "text": [
      "The original list : [1, 3, 5, 1, 3, 2, 5, 4, 2]\n",
      "Matrix after grouping : [[1, 1], [2, 2], [3, 3], [4], [5, 5]]\n"
     ]
    }
   ],
   "source": [
    "# Python3 code to demonstrate working of\n",
    "# Group similar elements into Matrix\n",
    "# Using list comprehension + groupby()\n",
    "from itertools import groupby\n",
    " \n",
    "# initializing list\n",
    "test_list = [1, 3, 5, 1, 3, 2, 5, 4, 2]\n",
    " \n",
    "# printing original list\n",
    "print(\"The original list : \" + str(test_list))\n",
    " \n",
    "# Group similar elements into Matrix\n",
    "# Using list comprehension + groupby()\n",
    "res = [list(val) for key, val in groupby(sorted(test_list))]\n",
    " \n",
    "# printing result\n",
    "print(\"Matrix after grouping : \" + str(res))"
   ]
  },
  {
   "cell_type": "code",
   "execution_count": 8,
   "metadata": {},
   "outputs": [
    {
     "name": "stdout",
     "output_type": "stream",
     "text": [
      "A bear is a animal.\n",
      "A duck is a animal.\n",
      "\n",
      "A cactus is a plant.\n",
      "\n",
      "A speed boat is a vehicle.\n",
      "A school bus is a vehicle.\n",
      "\n"
     ]
    }
   ],
   "source": [
    "from itertools import groupby\n",
    "\n",
    "things = [(\"animal\", \"bear\"), (\"animal\", \"duck\"), (\"plant\", \"cactus\"), (\"vehicle\", \"speed boat\"), (\"vehicle\", \"school bus\")]\n",
    "\n",
    "for key, group in groupby(things, lambda x: x[0]):\n",
    "    for thing in group:\n",
    "        print(\"A %s is a %s.\" % (thing[1], key))\n",
    "        \n",
    "    print(\"\")\n",
    "    "
   ]
  },
  {
   "cell_type": "code",
   "execution_count": 19,
   "metadata": {},
   "outputs": [
    {
     "name": "stdout",
     "output_type": "stream",
     "text": [
      "{'animal': [('animal', 'bear'), ('animal', 'duck'), ('animal', 'rabbit')], 'plant': [('plant', 'cactus')], 'vehicle': [('vehicle', 'speed boat'), ('vehicle', 'school bus')]}\n"
     ]
    }
   ],
   "source": [
    "from itertools import groupby\n",
    "\n",
    "things = [(\"animal\", \"bear\"), (\"animal\", \"duck\"), (\"plant\", \"cactus\"), (\"vehicle\", \"speed boat\"), (\"vehicle\", \"school bus\"),(\"animal\",\"rabbit\")]\n",
    "things = sorted(things, key= lambda x:x[0])\n",
    "group_things = {key:list(group) for key, group in groupby(things, lambda x: x[0])}\n",
    "    \n",
    "print(group_things)\n",
    "    "
   ]
  },
  {
   "cell_type": "code",
   "execution_count": 20,
   "metadata": {},
   "outputs": [
    {
     "name": "stdout",
     "output_type": "stream",
     "text": [
      "The original list : [1, 3, 5, 1, 3, 2, 5, 4, 2]\n",
      "Matrix after grouping : [[1, 1], [3, 3], [5, 5], [2, 2], [4]]\n"
     ]
    }
   ],
   "source": [
    "# Python3 code to demonstrate working of\n",
    "# Group similar elements into Matrix\n",
    "# Using list comprehension + Counter()\n",
    " \n",
    "from collections import Counter\n",
    " \n",
    "# Initializing list\n",
    "test_list = [1, 3, 5, 1, 3, 2, 5, 4, 2]\n",
    " \n",
    "# Printing original list\n",
    "print(\"The original list : \" + str(test_list))\n",
    " \n",
    "# Grouping similar elements into Matrix\n",
    "# Using list comprehension + Counter()\n",
    "temp = Counter(test_list)\n",
    "res = [[key] * val for key, val in temp.items()]\n",
    " \n",
    "# Printing the result\n",
    "print(\"Matrix after grouping : \" + str(res))"
   ]
  },
  {
   "cell_type": "markdown",
   "metadata": {},
   "source": [
    "Input : test_list = [[(‘Gfg’, 3)], [(‘best’, 1)]] cus_eles = [1, 2] \n",
    "Output : [[(‘Gfg’, 3, 1)], [(‘best’, 1, 2)]] \n",
    "\n",
    "Input : test_list = [[(‘Gfg’, 6), (‘Gfg’, 3)]] cus_eles = [7] \n",
    "Output : [[(‘Gfg’, 6, 7), (‘Gfg’, 3, 7)]]"
   ]
  },
  {
   "cell_type": "code",
   "execution_count": 7,
   "metadata": {},
   "outputs": [
    {
     "name": "stdout",
     "output_type": "stream",
     "text": [
      "The original list is : [[('Gfg', 3), ('is', 3)], [('best', 1)], [('for', 5), ('geeks', 1)]]\n",
      "[[('Gfg', 3, 6), ('is', 3, 6)], [('best', 1, 7)], [('for', 5, 8), ('geeks', 1, 8)]]\n",
      "[[('Gfg', 3, 6), ('is', 3, 6)], [('best', 1, 7)], [('for', 5, 8), ('geeks', 1, 8)]]\n"
     ]
    }
   ],
   "source": [
    "# Python3 code to demonstrate working of \n",
    "# Row-wise element Addition in Tuple Matrix\n",
    "# Using enumerate() + list comprehension\n",
    " \n",
    "# initializing list\n",
    "test_list = [[('Gfg', 3), ('is', 3)], [('best', 1)], [('for', 5), ('geeks', 1)]]\n",
    " \n",
    "# printing original list\n",
    "print(\"The original list is : \" + str(test_list))\n",
    " \n",
    "# initializing Custom eles\n",
    "cus_eles = [6, 7, 8]\n",
    "\n",
    "res = [[sub + (cus_eles[ind],) for sub in val] for ind,val in enumerate(test_list) ]\n",
    "\n",
    "res_zip = [[sub + (cus,) for sub in val] for val,cus in zip(test_list,cus_eles)]\n",
    "\n",
    "print(res)\n",
    "\n",
    "print(res_zip)"
   ]
  },
  {
   "cell_type": "code",
   "execution_count": 11,
   "metadata": {},
   "outputs": [
    {
     "name": "stdout",
     "output_type": "stream",
     "text": [
      "[[('Gfg', 3, 1)], [('best', 1, 2)]]\n"
     ]
    }
   ],
   "source": [
    "test_list = [[('Gfg', 3)], [('best', 1)]]\n",
    "cus_eles = [1, 2]\n",
    "result_list = []\n",
    "for i, row in enumerate(test_list):\n",
    "    result_list.append(list(map(lambda x : x + (cus_eles[i],), row)))\n",
    "    \n",
    "print(result_list)"
   ]
  },
  {
   "cell_type": "markdown",
   "metadata": {},
   "source": [
    "Given an integer N. The task is to generate a square matrix of ( n x n ) having the elements ranging from 1 to n^2 with the following condition:\n",
    "\n",
    "The elements of the matrix should be distinct i.e used only once\n",
    "Numbers ranging from 1 to n^2\n",
    "Every sub-matrix you choose should have the sum of opposite corner elements as even i.e sum of top left and bottom right should be even and the sum of top right and bottom left element should be even\n",
    "This property should apply to all the submatrices of the matrix. You need to generate an Even Sub-Matrix\n",
    "\n"
   ]
  },
  {
   "cell_type": "markdown",
   "metadata": {},
   "source": [
    "Approach:\n",
    "\n",
    "As we know for any two elements sum to be even it can be Sum of ODD and ODD or Sum of EVEN and EVEN. In either of the two cases for the corner elements sum to be even we need to ensure that the diagonal pattern arranged elements should be either odd or even. So we make the 2d array having diagonals as all odds or all evens to find any submatrix having corner elements sum even. The below approach can be followed for the same.\n",
    "\n",
    "When n is odd the diagonals are already in all odd or even  elements, so we need not modify and generate a simple 2d array\n",
    "When n is even the matrix generated does not satisfy the property having an even sum of opposite corner elements of the sub-matrices, so we reverse the alternate row elements so that diagonals of every submatrix are either all odd or all even."
   ]
  },
  {
   "cell_type": "code",
   "execution_count": 12,
   "metadata": {},
   "outputs": [
    {
     "name": "stdout",
     "output_type": "stream",
     "text": [
      "1 2 3 4 \n",
      "8 7 6 5 \n",
      "9 10 11 12 \n",
      "16 15 14 13 \n"
     ]
    }
   ],
   "source": [
    "# Python3 program for \n",
    "# the above approach\n",
    "import itertools\n",
    " \n",
    " \n",
    "def sub_mat_even(n):\n",
    "     \n",
    "    temp = itertools.count(1)\n",
    "     \n",
    "    # create a 2d array ranging \n",
    "    # from 1 to n^2\n",
    "    l = [[next(temp)for i in range(n)]for i in range(n)]\n",
    "     \n",
    "    # If found even we reverse the alternate \n",
    "    # row elements to get all diagonal elements \n",
    "    # as all even or all odd\n",
    "    if n%2 == 0:\n",
    "        for i in range(0,len(l)):\n",
    "            if i%2 == 1:\n",
    "                l[i][:] = l[i][::-1]\n",
    "     \n",
    "    # Printing the array formed\n",
    "    for i in range(n):\n",
    "        for j in range(n):\n",
    "            print(l[i][j],end=\" \")\n",
    "        print()\n",
    " \n",
    "n = 4\n",
    "sub_mat_even(n)"
   ]
  },
  {
   "cell_type": "code",
   "execution_count": null,
   "metadata": {},
   "outputs": [],
   "source": []
  }
 ],
 "metadata": {
  "kernelspec": {
   "display_name": "Python 3 (ipykernel)",
   "language": "python",
   "name": "python3"
  },
  "language_info": {
   "codemirror_mode": {
    "name": "ipython",
    "version": 3
   },
   "file_extension": ".py",
   "mimetype": "text/x-python",
   "name": "python",
   "nbconvert_exporter": "python",
   "pygments_lexer": "ipython3",
   "version": "3.8.3"
  }
 },
 "nbformat": 4,
 "nbformat_minor": 4
}
