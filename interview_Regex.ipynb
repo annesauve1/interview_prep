{
 "cells": [
  {
   "cell_type": "code",
   "execution_count": 1,
   "metadata": {},
   "outputs": [
    {
     "name": "stdout",
     "output_type": "stream",
     "text": [
      "IPv4\n",
      "IPv6\n",
      "Neither\n"
     ]
    }
   ],
   "source": [
    "# Python program to find the type of Ip address\n",
    "\n",
    "# re module provides support \n",
    "# for regular expressions\n",
    "import re\n",
    "\n",
    "# Make a regular expression \n",
    "# for validating an Ipv4\n",
    "ipv4 = '''^(25[0-5]|2[0-4][0-9]|[0-1]?[0-9][0-9]?)\\.( \n",
    "\t\t\t25[0-5]|2[0-4][0-9]|[0-1]?[0-9][0-9]?)\\.( \n",
    "\t\t\t25[0-5]|2[0-4][0-9]|[0-1]?[0-9][0-9]?)\\.( \n",
    "\t\t\t25[0-5]|2[0-4][0-9]|[0-1]?[0-9][0-9]?)$'''\n",
    "\n",
    "# Make a regular expression \n",
    "# for validating an Ipv6\n",
    "ipv6 = '''(([0-9a-fA-F]{1,4}:){7,7}[0-9a-fA-F]{1,4}|\n",
    "\t\t([0-9a-fA-F]{1,4}:){1,7}:|([0-9a-fA-F]{1,4}:)\n",
    "\t\t{1,6}:[0-9a-fA-F]{1,4}|([0-9a-fA-F]{1,4}:){1\n",
    "\t\t,5}(:[0-9a-fA-F]{1,4}){1,2}|([0-9a-fA-F]{1,4}\n",
    "\t\t:){1,4}(:[0-9a-fA-F]{1,4}){1,3}|([0-9a-fA-F]{\n",
    "\t\t1,4}:){1,3}(:[0-9a-fA-F]{1,4}){1,4}|([0-9a-fA\n",
    "\t\t-F]{1,4}:){1,2}(:[0-9a-fA-F]{1,4}){1,5}|[0-9a\n",
    "\t\t-fA-F]{1,4}:((:[0-9a-fA-F]{1,4}){1,6})|:((:[0\n",
    "\t\t-9a-fA-F]{1,4}){1,7}|:)|fe80:(:[0-9a-fA-F]{0,\n",
    "\t\t4}){0,4}%[0-9a-zA-Z]{1,}|::(ffff(:0{1,4}){0,1}\n",
    "\t\t:){0,1}((25[0-5]|(2[0-4]|1{0,1}[0-9]){0,1}[0-9\n",
    "\t\t])\\.){3,3}(25[0-5]|(2[0-4]|1{0,1}[0-9]){0,1}[0\n",
    "\t\t-9])|([0-9a-fA-F]{1,4}:){1,4}:((25[0-5]|(2[0-4]\n",
    "\t\t|1{0,1}[0-9]){0,1}[0-9])\\.){3,3}(25[0-5]|(2[0-4]\n",
    "\t\t|1{0,1}[0-9]){0,1}[0-9]))'''\n",
    "\n",
    "# Define a function for finding \n",
    "# the type of Ip address \n",
    "def find(Ip): \n",
    "\n",
    "\t# pass the regular expression \n",
    "\t# and the string in search() method\n",
    "\tif re.search(ipv4, Ip):\n",
    "\t\tprint(\"IPv4\")\n",
    "\telif re.search(ipv6, Ip):\n",
    "\t\tprint(\"IPv6\")\n",
    "\telse:\n",
    "\t\tprint(\"Neither\")\n",
    "\n",
    "# Driver Code \n",
    "if __name__ == '__main__' : \n",
    "\t\n",
    "\t# Enter the Ip address \n",
    "\tIp = \"192.0.2.126\"\n",
    "\t\n",
    "\t# calling run function \n",
    "\tfind(Ip) \n",
    "\n",
    "\tIp = \"3001:0da8:75a3:0000:0000:8a2e:0370:7334\"\n",
    "\tfind(Ip) \n",
    "\n",
    "\tIp = \"36.12.08.20.52\"\n",
    "\tfind(Ip)\n"
   ]
  },
  {
   "cell_type": "code",
   "execution_count": 2,
   "metadata": {},
   "outputs": [
    {
     "name": "stdout",
     "output_type": "stream",
     "text": [
      "The file ending with .xml is: geeks.xml\n"
     ]
    }
   ],
   "source": [
    "# import library \n",
    "import re \n",
    "  \n",
    "# list of different types of file \n",
    "filenames = [\"gfg.html\", \"geeks.xml\",  \n",
    "            \"computer.txt\", \"geeksforgeeks.jpg\"] \n",
    "  \n",
    "for file in filenames: \n",
    "    # search given pattern in the line  \n",
    "    match = re.search(\"\\.xml$\", file) \n",
    "  \n",
    "    # if match is found \n",
    "    if match: \n",
    "        print(\"The file ending with .xml is:\", \n",
    "             file) "
   ]
  },
  {
   "cell_type": "code",
   "execution_count": 2,
   "metadata": {},
   "outputs": [
    {
     "name": "stdout",
     "output_type": "stream",
     "text": [
      "['abc', 'abc']\n"
     ]
    }
   ],
   "source": [
    "import re\n",
    "\n",
    "pattern = 'abc'\n",
    "string = 'abcdefabcab'\n",
    "result = re.findall(pattern, string)\n",
    "print(result)"
   ]
  },
  {
   "cell_type": "code",
   "execution_count": 5,
   "metadata": {},
   "outputs": [
    {
     "name": "stdout",
     "output_type": "stream",
     "text": [
      "[0]\n"
     ]
    }
   ],
   "source": [
    "# Import required module\n",
    "import re\n",
    " \n",
    " \n",
    "# Function to depict use of finditer() method\n",
    "def CntSubstr(pattern, string):\n",
    " \n",
    "    # Array storing the indices\n",
    "    a = [m.start() for m in re.finditer(pattern, string)]\n",
    "    return a\n",
    " \n",
    " \n",
    "# Driver Code\n",
    "string = 'geeksforgeeksforgeeks'\n",
    "pattern = 'geeksforgeeks'\n",
    " \n",
    "# Printing index values of non-overlapping pattern\n",
    "print(CntSubstr(pattern, string))"
   ]
  },
  {
   "cell_type": "code",
   "execution_count": 6,
   "metadata": {},
   "outputs": [
    {
     "name": "stdout",
     "output_type": "stream",
     "text": [
      "[0, 8]\n",
      "[3, 9, 15, 21]\n"
     ]
    }
   ],
   "source": [
    "# Import required module\n",
    "import re\n",
    " \n",
    " \n",
    "# Explicit function to Count\n",
    "# Indices of Overlapping Substrings\n",
    "def CntSubstr(pattern, string):\n",
    "    a = [m.start() for m in re.finditer(\n",
    "        '(?={0})'.format(re.escape(pattern)), string)]\n",
    "    return a\n",
    " \n",
    " \n",
    "# Driver Code\n",
    "string1 = 'geeksforgeeksforgeeks'\n",
    "pattern1 = 'geeksforgeeks'\n",
    " \n",
    "string2 = 'barfoobarfoobarfoobarfoobarfoo'\n",
    "pattern2 = 'foobarfoo'\n",
    " \n",
    " \n",
    "# Calling the function\n",
    "print(CntSubstr(pattern1, string1))\n",
    "print(CntSubstr(pattern2, string2))"
   ]
  },
  {
   "cell_type": "code",
   "execution_count": null,
   "metadata": {},
   "outputs": [],
   "source": []
  }
 ],
 "metadata": {
  "kernelspec": {
   "display_name": "Python 3 (ipykernel)",
   "language": "python",
   "name": "python3"
  },
  "language_info": {
   "codemirror_mode": {
    "name": "ipython",
    "version": 3
   },
   "file_extension": ".py",
   "mimetype": "text/x-python",
   "name": "python",
   "nbconvert_exporter": "python",
   "pygments_lexer": "ipython3",
   "version": "3.8.3"
  }
 },
 "nbformat": 4,
 "nbformat_minor": 4
}
