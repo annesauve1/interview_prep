{
 "cells": [
  {
   "cell_type": "code",
   "execution_count": 1,
   "metadata": {},
   "outputs": [
    {
     "name": "stdout",
     "output_type": "stream",
     "text": [
      "0.06839793000000327\n",
      "0.06784094700000054\n",
      "0.07364414899999616\n",
      "0.06644072699999981\n",
      "0.06592992200000936\n"
     ]
    }
   ],
   "source": [
    "# importing libraries\n",
    "from timeit import default_timer as timer\n",
    "import itertools\n",
    "import random\n",
    " \n",
    "# Function under evaluation\n",
    "def test_func(test_set):\n",
    " \n",
    "    for val in test_set:\n",
    "        _ = val\n",
    " \n",
    "# Driver function\n",
    "if __name__ == '__main__':\n",
    " \n",
    "    random.seed(21)\n",
    " \n",
    "    for _ in range(5):\n",
    "        test_set = set()\n",
    " \n",
    "        # generating a set of random numbers\n",
    "        for el in range(int(1e6)):\n",
    "            el = random.random()\n",
    "            test_set.add(el)\n",
    " \n",
    "        start = timer()\n",
    "        test_func(test_set)\n",
    "        end = timer()\n",
    " \n",
    "        print(str(end - start))"
   ]
  },
  {
   "cell_type": "code",
   "execution_count": 2,
   "metadata": {},
   "outputs": [
    {
     "name": "stdout",
     "output_type": "stream",
     "text": [
      "{'k', 'E', 's', 'g', 'e'}\n",
      "k\n",
      "E\n",
      "s\n",
      "g\n",
      "e\n"
     ]
    }
   ],
   "source": [
    "test_set = set(\"geEks\")\n",
    "print(test_set) \n",
    "# Iterating using for loop\n",
    "for val in test_set:\n",
    "    print(val)"
   ]
  },
  {
   "cell_type": "code",
   "execution_count": 3,
   "metadata": {},
   "outputs": [
    {
     "name": "stdout",
     "output_type": "stream",
     "text": [
      "65\n"
     ]
    }
   ],
   "source": [
    "sets = set([8, 16, 24, 1, 25, 3, 10, 65, 55])\n",
    "print(max(sets))"
   ]
  },
  {
   "cell_type": "code",
   "execution_count": 4,
   "metadata": {},
   "outputs": [
    {
     "name": "stdout",
     "output_type": "stream",
     "text": [
      "{9, 10, 12, 13, 15}\n",
      "{10, 12, 13, 15}\n",
      "{12, 13, 15}\n",
      "{13, 15}\n",
      "{15}\n",
      "set()\n"
     ]
    }
   ],
   "source": [
    "# it's always from the smallest to the biggest with pop()\n",
    "def Remove(initial_set):\n",
    "    while initial_set:\n",
    "        initial_set.pop()\n",
    "        print(initial_set)\n",
    " \n",
    " \n",
    "initial_set = set([12, 10, 13, 15, 8, 9])\n",
    "Remove(initial_set)"
   ]
  },
  {
   "cell_type": "code",
   "execution_count": 5,
   "metadata": {},
   "outputs": [
    {
     "name": "stdout",
     "output_type": "stream",
     "text": [
      "{8, 9, 10, 12, 13}\n",
      "{8, 9, 10, 12}\n",
      "{8, 9, 10}\n",
      "{8, 9}\n",
      "{8}\n",
      "set()\n"
     ]
    }
   ],
   "source": [
    "my_set = set([12, 10, 13, 15, 8, 9])\n",
    " \n",
    "while my_set:\n",
    "    my_set.discard(max(my_set))\n",
    "    print(my_set)"
   ]
  },
  {
   "cell_type": "code",
   "execution_count": 6,
   "metadata": {},
   "outputs": [
    {
     "name": "stdout",
     "output_type": "stream",
     "text": [
      "{9, 10, 12, 13, 15}\n",
      "{10, 12, 13, 15}\n",
      "{12, 13, 15}\n",
      "{13, 15}\n",
      "{15}\n",
      "set()\n"
     ]
    }
   ],
   "source": [
    "my_set = set([12, 10, 13, 15, 8, 9])\n",
    " \n",
    "for i in range(len(my_set)):\n",
    "    my_set.remove(next(iter(my_set)))\n",
    "    print(my_set)\n",
    "     \n",
    "    "
   ]
  },
  {
   "cell_type": "code",
   "execution_count": 7,
   "metadata": {},
   "outputs": [
    {
     "name": "stdout",
     "output_type": "stream",
     "text": [
      "True\n",
      "False\n"
     ]
    }
   ],
   "source": [
    "# Python program to check \n",
    "# if two lists have at-least \n",
    "# one element common\n",
    "# using set and property\n",
    " \n",
    "def common_member(a, b):\n",
    "    a_set = set(a)\n",
    "    b_set = set(b)\n",
    "    if (a_set & b_set):\n",
    "        return True\n",
    "    else:\n",
    "        return False\n",
    "         \n",
    " \n",
    "a = [1, 2, 3, 4, 5]\n",
    "b = [5, 6, 7, 8, 9]\n",
    "print(common_member(a, b))\n",
    " \n",
    "a =[1, 2, 3, 4, 5]\n",
    "b =[6, 7, 8, 9]\n",
    "print(common_member(a, b))"
   ]
  },
  {
   "cell_type": "code",
   "execution_count": 9,
   "metadata": {},
   "outputs": [
    {
     "name": "stdout",
     "output_type": "stream",
     "text": [
      "{5}\n",
      "True\n",
      "set()\n",
      "False\n"
     ]
    }
   ],
   "source": [
    "# Python program to check \n",
    "# if two lists have at-least \n",
    "# one element common\n",
    "# using set intersection\n",
    " \n",
    "def common_member(a, b):\n",
    "    a_set = set(a)\n",
    "    b_set = set(b)\n",
    "    print(a_set.intersection(b_set))\n",
    "    if len(a_set.intersection(b_set)) > 0:\n",
    "        return(True) \n",
    "    return(False)   \n",
    " \n",
    "a = [1, 2, 3, 4, 5]\n",
    "b = [5, 6, 7, 8, 9]\n",
    "print(common_member(a, b))\n",
    " \n",
    "a =[1, 2, 3, 4, 5]\n",
    "b =[6, 7, 8, 9]\n",
    "print(common_member(a, b))"
   ]
  },
  {
   "cell_type": "code",
   "execution_count": 10,
   "metadata": {},
   "outputs": [
    {
     "name": "stdout",
     "output_type": "stream",
     "text": [
      "True\n"
     ]
    }
   ],
   "source": [
    "import operator as op\n",
    "# Python code to check if two lists\n",
    "# have any element in common\n",
    " \n",
    "# Initialization of list\n",
    "list1 = [1, 3, 4, 55]\n",
    "list2 = [90, 1, 22]\n",
    " \n",
    "flag = 0\n",
    " \n",
    "# Using in to check element of\n",
    "# second list into first list\n",
    "for elem in list2:\n",
    "    if op.countOf(list1, elem) > 0:\n",
    "        flag = 1\n",
    " \n",
    "# checking condition\n",
    "if flag == 1:\n",
    "    print(\"True\")\n",
    "else:\n",
    "    print(\"False\")"
   ]
  },
  {
   "cell_type": "code",
   "execution_count": null,
   "metadata": {},
   "outputs": [],
   "source": [
    "# slow method\n",
    "def common_member(a, b):\n",
    "    return any(i in b for i in a)\n",
    "  \n",
    "a = [1, 2, 3, 4, 5]\n",
    "b = [5, 6, 7, 8, 9]\n",
    "print(common_member(a, b))  # True\n",
    "  \n",
    "a =[1, 2, 3, 4, 5]\n",
    "b =[6, 7, 8, 9]\n",
    "print(common_member(a, b))  # False"
   ]
  }
 ],
 "metadata": {
  "kernelspec": {
   "display_name": "Python 3 (ipykernel)",
   "language": "python",
   "name": "python3"
  },
  "language_info": {
   "codemirror_mode": {
    "name": "ipython",
    "version": 3
   },
   "file_extension": ".py",
   "mimetype": "text/x-python",
   "name": "python",
   "nbconvert_exporter": "python",
   "pygments_lexer": "ipython3",
   "version": "3.8.3"
  }
 },
 "nbformat": 4,
 "nbformat_minor": 4
}
